{
 "cells": [
  {
   "cell_type": "markdown",
   "id": "b2edec38",
   "metadata": {},
   "source": [
    "# Step 1: Rocket Physics"
   ]
  },
  {
   "cell_type": "code",
   "execution_count": null,
   "id": "7019e692",
   "metadata": {},
   "outputs": [],
   "source": [
    "from rocket_physics import rocket_dynamics"
   ]
  },
  {
   "cell_type": "code",
   "execution_count": null,
   "id": "00df6e49",
   "metadata": {},
   "outputs": [],
   "source": [
    "import numpy as np"
   ]
  },
  {
   "cell_type": "code",
   "execution_count": null,
   "id": "27d9ce00",
   "metadata": {},
   "outputs": [],
   "source": []
  },
  {
   "cell_type": "code",
   "execution_count": null,
   "id": "9d1d1596",
   "metadata": {},
   "outputs": [],
   "source": [
    "params = {'g':9.81,'rho':1.225,'Cd':0.5,'A':0.01}"
   ]
  },
  {
   "cell_type": "code",
   "execution_count": null,
   "id": "adee2e5d",
   "metadata": {},
   "outputs": [],
   "source": [
    "state = np.array([0.0, 0.0])  # altitude, velocity"
   ]
  },
  {
   "cell_type": "code",
   "execution_count": null,
   "id": "6d5391c9",
   "metadata": {},
   "outputs": [],
   "source": [
    "new_state = rocket_dynamics(state, thrust=100, mass=50, dt=0.1, params=params)"
   ]
  },
  {
   "cell_type": "code",
   "execution_count": null,
   "id": "0271f9ba",
   "metadata": {},
   "outputs": [],
   "source": [
    "print('New state:', new_state)"
   ]
  }
 ],
 "metadata": {},
 "nbformat": 4,
 "nbformat_minor": 5
}
