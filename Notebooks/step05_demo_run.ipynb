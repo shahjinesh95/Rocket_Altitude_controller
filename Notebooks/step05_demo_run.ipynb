{
 "cells": [
  {
   "cell_type": "markdown",
   "id": "a2e61e45",
   "metadata": {},
   "source": [
    "# Step 5: Demo Run (Full System Integration)"
   ]
  },
  {
   "cell_type": "code",
   "execution_count": null,
   "id": "9d249b37",
   "metadata": {},
   "outputs": [],
   "source": [
    "from demo_run import *  # Runs the demo end-to-end"
   ]
  },
  {
   "cell_type": "code",
   "execution_count": null,
   "id": "c876cc9d",
   "metadata": {},
   "outputs": [],
   "source": []
  },
  {
   "cell_type": "code",
   "execution_count": null,
   "id": "5458899b",
   "metadata": {},
   "outputs": [],
   "source": [
    "print('Demo run executed successfully.')"
   ]
  }
 ],
 "metadata": {},
 "nbformat": 4,
 "nbformat_minor": 5
}
