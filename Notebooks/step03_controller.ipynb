{
 "cells": [
  {
   "cell_type": "markdown",
   "id": "696b2ba4",
   "metadata": {},
   "source": [
    "# Step 3: Controller Design"
   ]
  },
  {
   "cell_type": "code",
   "execution_count": null,
   "id": "e4738e48",
   "metadata": {},
   "outputs": [],
   "source": [
    "from controller_design import PIDController"
   ]
  },
  {
   "cell_type": "code",
   "execution_count": null,
   "id": "cfa3338c",
   "metadata": {},
   "outputs": [],
   "source": []
  },
  {
   "cell_type": "code",
   "execution_count": null,
   "id": "afbb638d",
   "metadata": {},
   "outputs": [],
   "source": [
    "pid = PIDController(kp=2, ki=0.5, kd=1, u_min=0, u_max=200)"
   ]
  },
  {
   "cell_type": "code",
   "execution_count": null,
   "id": "6507189e",
   "metadata": {},
   "outputs": [],
   "source": [
    "u = pid.update(setpoint=100, measurement=20, dt=0.1)"
   ]
  },
  {
   "cell_type": "code",
   "execution_count": null,
   "id": "3b6ca631",
   "metadata": {},
   "outputs": [],
   "source": [
    "print('Controller output thrust:', u)"
   ]
  }
 ],
 "metadata": {},
 "nbformat": 4,
 "nbformat_minor": 5
}
