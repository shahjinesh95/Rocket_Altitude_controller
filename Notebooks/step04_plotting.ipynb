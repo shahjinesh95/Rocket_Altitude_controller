{
 "cells": [
  {
   "cell_type": "markdown",
   "id": "92f3c4c5",
   "metadata": {},
   "source": [
    "# Step 4: Plotting Utilities"
   ]
  },
  {
   "cell_type": "code",
   "execution_count": null,
   "id": "1fe484d4",
   "metadata": {},
   "outputs": [],
   "source": [
    "import numpy as np"
   ]
  },
  {
   "cell_type": "code",
   "execution_count": null,
   "id": "c8cd7c75",
   "metadata": {},
   "outputs": [],
   "source": [
    "from utils_plotting import plot_states"
   ]
  },
  {
   "cell_type": "code",
   "execution_count": null,
   "id": "b3ac66cf",
   "metadata": {},
   "outputs": [],
   "source": []
  },
  {
   "cell_type": "code",
   "execution_count": null,
   "id": "e3920249",
   "metadata": {},
   "outputs": [],
   "source": [
    "times = np.linspace(0,10,100)"
   ]
  },
  {
   "cell_type": "code",
   "execution_count": null,
   "id": "f6522c40",
   "metadata": {},
   "outputs": [],
   "source": [
    "altitude = np.linspace(0,100,100)"
   ]
  },
  {
   "cell_type": "code",
   "execution_count": null,
   "id": "c1feb33d",
   "metadata": {},
   "outputs": [],
   "source": [
    "velocity = np.gradient(altitude, times)"
   ]
  },
  {
   "cell_type": "code",
   "execution_count": null,
   "id": "87daffc8",
   "metadata": {},
   "outputs": [],
   "source": [
    "states = np.vstack((altitude, velocity)).T"
   ]
  },
  {
   "cell_type": "code",
   "execution_count": null,
   "id": "e3fa06b7",
   "metadata": {},
   "outputs": [],
   "source": [
    "plot_states(times, states, setpoint=100)"
   ]
  }
 ],
 "metadata": {},
 "nbformat": 4,
 "nbformat_minor": 5
}
