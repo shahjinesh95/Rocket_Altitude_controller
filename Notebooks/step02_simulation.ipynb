{
 "cells": [
  {
   "cell_type": "markdown",
   "id": "3ecf8781",
   "metadata": {},
   "source": [
    "# Step 2: Simulation Engine"
   ]
  },
  {
   "cell_type": "code",
   "execution_count": null,
   "id": "ded797dc",
   "metadata": {},
   "outputs": [],
   "source": [
    "from simulation_engine import simulate"
   ]
  },
  {
   "cell_type": "code",
   "execution_count": null,
   "id": "81e402d7",
   "metadata": {},
   "outputs": [],
   "source": [
    "import numpy as np"
   ]
  },
  {
   "cell_type": "code",
   "execution_count": null,
   "id": "3bdc9c73",
   "metadata": {},
   "outputs": [],
   "source": []
  },
  {
   "cell_type": "code",
   "execution_count": null,
   "id": "99cf6ae8",
   "metadata": {},
   "outputs": [],
   "source": [
    "params = {'g':9.81,'rho':1.225,'Cd':0.5,'A':0.01}"
   ]
  },
  {
   "cell_type": "code",
   "execution_count": null,
   "id": "a78bef16",
   "metadata": {},
   "outputs": [],
   "source": [
    "def thrust_fn(t, state): return 100  # constant thrust"
   ]
  },
  {
   "cell_type": "code",
   "execution_count": null,
   "id": "ad478d16",
   "metadata": {},
   "outputs": [],
   "source": [
    "times, states = simulate([0,0], thrust_fn, mass=50, dt=0.1, t_final=5, params=params)"
   ]
  },
  {
   "cell_type": "code",
   "execution_count": null,
   "id": "f77ff126",
   "metadata": {},
   "outputs": [],
   "source": [
    "print('Final state:', states[-1])"
   ]
  }
 ],
 "metadata": {},
 "nbformat": 4,
 "nbformat_minor": 5
}
